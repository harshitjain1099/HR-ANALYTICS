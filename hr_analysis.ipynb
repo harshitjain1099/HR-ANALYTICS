{
 "cells": [
  {
   "cell_type": "markdown",
   "id": "a3214be5",
   "metadata": {
    "ExecuteTime": {
     "end_time": "2024-08-28T08:12:16.136022Z",
     "start_time": "2024-08-28T08:12:16.057607Z"
    }
   },
   "source": [
    "# HR analysis\n",
    "## HR-> human resource\n",
    "## customer churn-> the number of employee who are at notice period"
   ]
  },
  {
   "cell_type": "code",
   "execution_count": 1,
   "id": "2d5a0eb0",
   "metadata": {
    "ExecuteTime": {
     "end_time": "2024-08-28T08:34:07.369851Z",
     "start_time": "2024-08-28T08:33:27.868446Z"
    }
   },
   "outputs": [],
   "source": [
    "import pandas as pd\n",
    "import matplotlib.pyplot as plt\n",
    "import seaborn as sns\n",
    "import numpy as np\n",
    "import warnings"
   ]
  },
  {
   "cell_type": "code",
   "execution_count": 2,
   "id": "cf270590",
   "metadata": {
    "ExecuteTime": {
     "end_time": "2024-08-28T08:34:07.704012Z",
     "start_time": "2024-08-28T08:34:07.377850Z"
    }
   },
   "outputs": [],
   "source": [
    "data = pd.read_csv(r\"C:\\Users\\HARSHIT JAIN\\Desktop\\data science projects\\HR ANALYTICS\\people.csv\")"
   ]
  },
  {
   "cell_type": "code",
   "execution_count": 3,
   "id": "878686d3",
   "metadata": {
    "ExecuteTime": {
     "end_time": "2024-08-28T08:34:07.971328Z",
     "start_time": "2024-08-28T08:34:07.721700Z"
    }
   },
   "outputs": [
    {
     "data": {
      "text/html": [
       "<div>\n",
       "<style scoped>\n",
       "    .dataframe tbody tr th:only-of-type {\n",
       "        vertical-align: middle;\n",
       "    }\n",
       "\n",
       "    .dataframe tbody tr th {\n",
       "        vertical-align: top;\n",
       "    }\n",
       "\n",
       "    .dataframe thead th {\n",
       "        text-align: right;\n",
       "    }\n",
       "</style>\n",
       "<table border=\"1\" class=\"dataframe\">\n",
       "  <thead>\n",
       "    <tr style=\"text-align: right;\">\n",
       "      <th></th>\n",
       "      <th>satisfactoryLevel</th>\n",
       "      <th>lastEvaluation</th>\n",
       "      <th>numberOfProjects</th>\n",
       "      <th>avgMonthlyHours</th>\n",
       "      <th>timeSpent.company</th>\n",
       "      <th>workAccident</th>\n",
       "      <th>left</th>\n",
       "      <th>promotionInLast5years</th>\n",
       "      <th>dept</th>\n",
       "      <th>salary</th>\n",
       "    </tr>\n",
       "  </thead>\n",
       "  <tbody>\n",
       "    <tr>\n",
       "      <th>0</th>\n",
       "      <td>0.38</td>\n",
       "      <td>0.53</td>\n",
       "      <td>2</td>\n",
       "      <td>157</td>\n",
       "      <td>3</td>\n",
       "      <td>0</td>\n",
       "      <td>1</td>\n",
       "      <td>0</td>\n",
       "      <td>sales</td>\n",
       "      <td>low</td>\n",
       "    </tr>\n",
       "    <tr>\n",
       "      <th>1</th>\n",
       "      <td>0.80</td>\n",
       "      <td>0.86</td>\n",
       "      <td>5</td>\n",
       "      <td>262</td>\n",
       "      <td>6</td>\n",
       "      <td>0</td>\n",
       "      <td>1</td>\n",
       "      <td>0</td>\n",
       "      <td>sales</td>\n",
       "      <td>medium</td>\n",
       "    </tr>\n",
       "    <tr>\n",
       "      <th>2</th>\n",
       "      <td>0.11</td>\n",
       "      <td>0.88</td>\n",
       "      <td>7</td>\n",
       "      <td>272</td>\n",
       "      <td>4</td>\n",
       "      <td>0</td>\n",
       "      <td>1</td>\n",
       "      <td>0</td>\n",
       "      <td>sales</td>\n",
       "      <td>medium</td>\n",
       "    </tr>\n",
       "    <tr>\n",
       "      <th>3</th>\n",
       "      <td>0.37</td>\n",
       "      <td>0.52</td>\n",
       "      <td>2</td>\n",
       "      <td>159</td>\n",
       "      <td>3</td>\n",
       "      <td>0</td>\n",
       "      <td>1</td>\n",
       "      <td>0</td>\n",
       "      <td>sales</td>\n",
       "      <td>low</td>\n",
       "    </tr>\n",
       "    <tr>\n",
       "      <th>4</th>\n",
       "      <td>0.41</td>\n",
       "      <td>0.50</td>\n",
       "      <td>2</td>\n",
       "      <td>153</td>\n",
       "      <td>3</td>\n",
       "      <td>0</td>\n",
       "      <td>1</td>\n",
       "      <td>0</td>\n",
       "      <td>sales</td>\n",
       "      <td>low</td>\n",
       "    </tr>\n",
       "    <tr>\n",
       "      <th>5</th>\n",
       "      <td>0.10</td>\n",
       "      <td>0.77</td>\n",
       "      <td>6</td>\n",
       "      <td>247</td>\n",
       "      <td>4</td>\n",
       "      <td>0</td>\n",
       "      <td>1</td>\n",
       "      <td>0</td>\n",
       "      <td>sales</td>\n",
       "      <td>low</td>\n",
       "    </tr>\n",
       "    <tr>\n",
       "      <th>6</th>\n",
       "      <td>0.92</td>\n",
       "      <td>0.85</td>\n",
       "      <td>5</td>\n",
       "      <td>259</td>\n",
       "      <td>5</td>\n",
       "      <td>0</td>\n",
       "      <td>1</td>\n",
       "      <td>0</td>\n",
       "      <td>sales</td>\n",
       "      <td>low</td>\n",
       "    </tr>\n",
       "    <tr>\n",
       "      <th>7</th>\n",
       "      <td>0.42</td>\n",
       "      <td>0.53</td>\n",
       "      <td>2</td>\n",
       "      <td>142</td>\n",
       "      <td>3</td>\n",
       "      <td>0</td>\n",
       "      <td>1</td>\n",
       "      <td>0</td>\n",
       "      <td>sales</td>\n",
       "      <td>low</td>\n",
       "    </tr>\n",
       "    <tr>\n",
       "      <th>8</th>\n",
       "      <td>0.45</td>\n",
       "      <td>0.54</td>\n",
       "      <td>2</td>\n",
       "      <td>135</td>\n",
       "      <td>3</td>\n",
       "      <td>0</td>\n",
       "      <td>1</td>\n",
       "      <td>0</td>\n",
       "      <td>sales</td>\n",
       "      <td>low</td>\n",
       "    </tr>\n",
       "    <tr>\n",
       "      <th>9</th>\n",
       "      <td>0.11</td>\n",
       "      <td>0.81</td>\n",
       "      <td>6</td>\n",
       "      <td>305</td>\n",
       "      <td>4</td>\n",
       "      <td>0</td>\n",
       "      <td>1</td>\n",
       "      <td>0</td>\n",
       "      <td>sales</td>\n",
       "      <td>low</td>\n",
       "    </tr>\n",
       "    <tr>\n",
       "      <th>10</th>\n",
       "      <td>0.36</td>\n",
       "      <td>0.56</td>\n",
       "      <td>2</td>\n",
       "      <td>137</td>\n",
       "      <td>3</td>\n",
       "      <td>0</td>\n",
       "      <td>1</td>\n",
       "      <td>0</td>\n",
       "      <td>sales</td>\n",
       "      <td>low</td>\n",
       "    </tr>\n",
       "    <tr>\n",
       "      <th>11</th>\n",
       "      <td>0.38</td>\n",
       "      <td>0.54</td>\n",
       "      <td>2</td>\n",
       "      <td>143</td>\n",
       "      <td>3</td>\n",
       "      <td>0</td>\n",
       "      <td>1</td>\n",
       "      <td>0</td>\n",
       "      <td>sales</td>\n",
       "      <td>low</td>\n",
       "    </tr>\n",
       "    <tr>\n",
       "      <th>12</th>\n",
       "      <td>0.45</td>\n",
       "      <td>0.47</td>\n",
       "      <td>2</td>\n",
       "      <td>160</td>\n",
       "      <td>3</td>\n",
       "      <td>0</td>\n",
       "      <td>1</td>\n",
       "      <td>0</td>\n",
       "      <td>sales</td>\n",
       "      <td>low</td>\n",
       "    </tr>\n",
       "    <tr>\n",
       "      <th>13</th>\n",
       "      <td>0.78</td>\n",
       "      <td>0.99</td>\n",
       "      <td>4</td>\n",
       "      <td>255</td>\n",
       "      <td>6</td>\n",
       "      <td>0</td>\n",
       "      <td>1</td>\n",
       "      <td>0</td>\n",
       "      <td>sales</td>\n",
       "      <td>low</td>\n",
       "    </tr>\n",
       "    <tr>\n",
       "      <th>14</th>\n",
       "      <td>0.76</td>\n",
       "      <td>0.89</td>\n",
       "      <td>5</td>\n",
       "      <td>262</td>\n",
       "      <td>5</td>\n",
       "      <td>0</td>\n",
       "      <td>1</td>\n",
       "      <td>0</td>\n",
       "      <td>sales</td>\n",
       "      <td>low</td>\n",
       "    </tr>\n",
       "    <tr>\n",
       "      <th>15</th>\n",
       "      <td>0.11</td>\n",
       "      <td>0.83</td>\n",
       "      <td>6</td>\n",
       "      <td>282</td>\n",
       "      <td>4</td>\n",
       "      <td>0</td>\n",
       "      <td>1</td>\n",
       "      <td>0</td>\n",
       "      <td>sales</td>\n",
       "      <td>low</td>\n",
       "    </tr>\n",
       "    <tr>\n",
       "      <th>16</th>\n",
       "      <td>0.09</td>\n",
       "      <td>0.95</td>\n",
       "      <td>6</td>\n",
       "      <td>304</td>\n",
       "      <td>4</td>\n",
       "      <td>0</td>\n",
       "      <td>1</td>\n",
       "      <td>0</td>\n",
       "      <td>sales</td>\n",
       "      <td>low</td>\n",
       "    </tr>\n",
       "    <tr>\n",
       "      <th>17</th>\n",
       "      <td>0.46</td>\n",
       "      <td>0.57</td>\n",
       "      <td>2</td>\n",
       "      <td>139</td>\n",
       "      <td>3</td>\n",
       "      <td>0</td>\n",
       "      <td>1</td>\n",
       "      <td>0</td>\n",
       "      <td>sales</td>\n",
       "      <td>low</td>\n",
       "    </tr>\n",
       "    <tr>\n",
       "      <th>18</th>\n",
       "      <td>0.40</td>\n",
       "      <td>0.53</td>\n",
       "      <td>2</td>\n",
       "      <td>158</td>\n",
       "      <td>3</td>\n",
       "      <td>0</td>\n",
       "      <td>1</td>\n",
       "      <td>0</td>\n",
       "      <td>sales</td>\n",
       "      <td>low</td>\n",
       "    </tr>\n",
       "    <tr>\n",
       "      <th>19</th>\n",
       "      <td>0.89</td>\n",
       "      <td>0.92</td>\n",
       "      <td>5</td>\n",
       "      <td>242</td>\n",
       "      <td>5</td>\n",
       "      <td>0</td>\n",
       "      <td>1</td>\n",
       "      <td>0</td>\n",
       "      <td>sales</td>\n",
       "      <td>low</td>\n",
       "    </tr>\n",
       "    <tr>\n",
       "      <th>20</th>\n",
       "      <td>0.82</td>\n",
       "      <td>0.87</td>\n",
       "      <td>4</td>\n",
       "      <td>239</td>\n",
       "      <td>5</td>\n",
       "      <td>0</td>\n",
       "      <td>1</td>\n",
       "      <td>0</td>\n",
       "      <td>sales</td>\n",
       "      <td>low</td>\n",
       "    </tr>\n",
       "    <tr>\n",
       "      <th>21</th>\n",
       "      <td>0.40</td>\n",
       "      <td>0.49</td>\n",
       "      <td>2</td>\n",
       "      <td>135</td>\n",
       "      <td>3</td>\n",
       "      <td>0</td>\n",
       "      <td>1</td>\n",
       "      <td>0</td>\n",
       "      <td>sales</td>\n",
       "      <td>low</td>\n",
       "    </tr>\n",
       "    <tr>\n",
       "      <th>22</th>\n",
       "      <td>0.38</td>\n",
       "      <td>0.50</td>\n",
       "      <td>2</td>\n",
       "      <td>132</td>\n",
       "      <td>3</td>\n",
       "      <td>0</td>\n",
       "      <td>1</td>\n",
       "      <td>0</td>\n",
       "      <td>accounting</td>\n",
       "      <td>low</td>\n",
       "    </tr>\n",
       "    <tr>\n",
       "      <th>23</th>\n",
       "      <td>0.09</td>\n",
       "      <td>0.62</td>\n",
       "      <td>6</td>\n",
       "      <td>294</td>\n",
       "      <td>4</td>\n",
       "      <td>0</td>\n",
       "      <td>1</td>\n",
       "      <td>0</td>\n",
       "      <td>accounting</td>\n",
       "      <td>low</td>\n",
       "    </tr>\n",
       "    <tr>\n",
       "      <th>24</th>\n",
       "      <td>0.45</td>\n",
       "      <td>0.57</td>\n",
       "      <td>2</td>\n",
       "      <td>134</td>\n",
       "      <td>3</td>\n",
       "      <td>0</td>\n",
       "      <td>1</td>\n",
       "      <td>0</td>\n",
       "      <td>hr</td>\n",
       "      <td>low</td>\n",
       "    </tr>\n",
       "    <tr>\n",
       "      <th>25</th>\n",
       "      <td>0.40</td>\n",
       "      <td>0.51</td>\n",
       "      <td>2</td>\n",
       "      <td>145</td>\n",
       "      <td>3</td>\n",
       "      <td>0</td>\n",
       "      <td>1</td>\n",
       "      <td>0</td>\n",
       "      <td>hr</td>\n",
       "      <td>low</td>\n",
       "    </tr>\n",
       "    <tr>\n",
       "      <th>26</th>\n",
       "      <td>0.84</td>\n",
       "      <td>0.87</td>\n",
       "      <td>4</td>\n",
       "      <td>246</td>\n",
       "      <td>6</td>\n",
       "      <td>0</td>\n",
       "      <td>1</td>\n",
       "      <td>0</td>\n",
       "      <td>hr</td>\n",
       "      <td>low</td>\n",
       "    </tr>\n",
       "    <tr>\n",
       "      <th>27</th>\n",
       "      <td>0.38</td>\n",
       "      <td>0.46</td>\n",
       "      <td>2</td>\n",
       "      <td>137</td>\n",
       "      <td>3</td>\n",
       "      <td>0</td>\n",
       "      <td>1</td>\n",
       "      <td>0</td>\n",
       "      <td>technical</td>\n",
       "      <td>low</td>\n",
       "    </tr>\n",
       "    <tr>\n",
       "      <th>28</th>\n",
       "      <td>0.45</td>\n",
       "      <td>0.50</td>\n",
       "      <td>2</td>\n",
       "      <td>126</td>\n",
       "      <td>3</td>\n",
       "      <td>0</td>\n",
       "      <td>1</td>\n",
       "      <td>0</td>\n",
       "      <td>technical</td>\n",
       "      <td>low</td>\n",
       "    </tr>\n",
       "    <tr>\n",
       "      <th>29</th>\n",
       "      <td>0.11</td>\n",
       "      <td>0.89</td>\n",
       "      <td>6</td>\n",
       "      <td>306</td>\n",
       "      <td>4</td>\n",
       "      <td>0</td>\n",
       "      <td>1</td>\n",
       "      <td>0</td>\n",
       "      <td>technical</td>\n",
       "      <td>low</td>\n",
       "    </tr>\n",
       "  </tbody>\n",
       "</table>\n",
       "</div>"
      ],
      "text/plain": [
       "    satisfactoryLevel  lastEvaluation  numberOfProjects  avgMonthlyHours  \\\n",
       "0                0.38            0.53                 2              157   \n",
       "1                0.80            0.86                 5              262   \n",
       "2                0.11            0.88                 7              272   \n",
       "3                0.37            0.52                 2              159   \n",
       "4                0.41            0.50                 2              153   \n",
       "5                0.10            0.77                 6              247   \n",
       "6                0.92            0.85                 5              259   \n",
       "7                0.42            0.53                 2              142   \n",
       "8                0.45            0.54                 2              135   \n",
       "9                0.11            0.81                 6              305   \n",
       "10               0.36            0.56                 2              137   \n",
       "11               0.38            0.54                 2              143   \n",
       "12               0.45            0.47                 2              160   \n",
       "13               0.78            0.99                 4              255   \n",
       "14               0.76            0.89                 5              262   \n",
       "15               0.11            0.83                 6              282   \n",
       "16               0.09            0.95                 6              304   \n",
       "17               0.46            0.57                 2              139   \n",
       "18               0.40            0.53                 2              158   \n",
       "19               0.89            0.92                 5              242   \n",
       "20               0.82            0.87                 4              239   \n",
       "21               0.40            0.49                 2              135   \n",
       "22               0.38            0.50                 2              132   \n",
       "23               0.09            0.62                 6              294   \n",
       "24               0.45            0.57                 2              134   \n",
       "25               0.40            0.51                 2              145   \n",
       "26               0.84            0.87                 4              246   \n",
       "27               0.38            0.46                 2              137   \n",
       "28               0.45            0.50                 2              126   \n",
       "29               0.11            0.89                 6              306   \n",
       "\n",
       "    timeSpent.company  workAccident  left  promotionInLast5years        dept  \\\n",
       "0                   3             0     1                      0       sales   \n",
       "1                   6             0     1                      0       sales   \n",
       "2                   4             0     1                      0       sales   \n",
       "3                   3             0     1                      0       sales   \n",
       "4                   3             0     1                      0       sales   \n",
       "5                   4             0     1                      0       sales   \n",
       "6                   5             0     1                      0       sales   \n",
       "7                   3             0     1                      0       sales   \n",
       "8                   3             0     1                      0       sales   \n",
       "9                   4             0     1                      0       sales   \n",
       "10                  3             0     1                      0       sales   \n",
       "11                  3             0     1                      0       sales   \n",
       "12                  3             0     1                      0       sales   \n",
       "13                  6             0     1                      0       sales   \n",
       "14                  5             0     1                      0       sales   \n",
       "15                  4             0     1                      0       sales   \n",
       "16                  4             0     1                      0       sales   \n",
       "17                  3             0     1                      0       sales   \n",
       "18                  3             0     1                      0       sales   \n",
       "19                  5             0     1                      0       sales   \n",
       "20                  5             0     1                      0       sales   \n",
       "21                  3             0     1                      0       sales   \n",
       "22                  3             0     1                      0  accounting   \n",
       "23                  4             0     1                      0  accounting   \n",
       "24                  3             0     1                      0          hr   \n",
       "25                  3             0     1                      0          hr   \n",
       "26                  6             0     1                      0          hr   \n",
       "27                  3             0     1                      0   technical   \n",
       "28                  3             0     1                      0   technical   \n",
       "29                  4             0     1                      0   technical   \n",
       "\n",
       "    salary  \n",
       "0      low  \n",
       "1   medium  \n",
       "2   medium  \n",
       "3      low  \n",
       "4      low  \n",
       "5      low  \n",
       "6      low  \n",
       "7      low  \n",
       "8      low  \n",
       "9      low  \n",
       "10     low  \n",
       "11     low  \n",
       "12     low  \n",
       "13     low  \n",
       "14     low  \n",
       "15     low  \n",
       "16     low  \n",
       "17     low  \n",
       "18     low  \n",
       "19     low  \n",
       "20     low  \n",
       "21     low  \n",
       "22     low  \n",
       "23     low  \n",
       "24     low  \n",
       "25     low  \n",
       "26     low  \n",
       "27     low  \n",
       "28     low  \n",
       "29     low  "
      ]
     },
     "execution_count": 3,
     "metadata": {},
     "output_type": "execute_result"
    }
   ],
   "source": [
    "data.head(30)"
   ]
  },
  {
   "cell_type": "code",
   "execution_count": 4,
   "id": "e163ee04",
   "metadata": {
    "ExecuteTime": {
     "end_time": "2024-08-28T08:34:07.994508Z",
     "start_time": "2024-08-28T08:34:07.980579Z"
    }
   },
   "outputs": [
    {
     "data": {
      "text/plain": [
       "(14999, 10)"
      ]
     },
     "execution_count": 4,
     "metadata": {},
     "output_type": "execute_result"
    }
   ],
   "source": [
    "data.shape"
   ]
  },
  {
   "cell_type": "code",
   "execution_count": 5,
   "id": "ba379e25",
   "metadata": {
    "ExecuteTime": {
     "end_time": "2024-08-28T08:34:08.316309Z",
     "start_time": "2024-08-28T08:34:08.003986Z"
    }
   },
   "outputs": [
    {
     "name": "stdout",
     "output_type": "stream",
     "text": [
      "<class 'pandas.core.frame.DataFrame'>\n",
      "RangeIndex: 14999 entries, 0 to 14998\n",
      "Data columns (total 10 columns):\n",
      " #   Column                 Non-Null Count  Dtype  \n",
      "---  ------                 --------------  -----  \n",
      " 0   satisfactoryLevel      14999 non-null  float64\n",
      " 1   lastEvaluation         14999 non-null  float64\n",
      " 2   numberOfProjects       14999 non-null  int64  \n",
      " 3   avgMonthlyHours        14999 non-null  int64  \n",
      " 4   timeSpent.company      14999 non-null  int64  \n",
      " 5   workAccident           14999 non-null  int64  \n",
      " 6   left                   14999 non-null  int64  \n",
      " 7   promotionInLast5years  14999 non-null  int64  \n",
      " 8   dept                   14999 non-null  object \n",
      " 9   salary                 14999 non-null  object \n",
      "dtypes: float64(2), int64(6), object(2)\n",
      "memory usage: 1.1+ MB\n"
     ]
    }
   ],
   "source": [
    "data.info()"
   ]
  },
  {
   "cell_type": "code",
   "execution_count": 6,
   "id": "75e6b3a0",
   "metadata": {
    "ExecuteTime": {
     "end_time": "2024-08-28T08:34:08.366925Z",
     "start_time": "2024-08-28T08:34:08.327827Z"
    }
   },
   "outputs": [
    {
     "data": {
      "text/html": [
       "<div>\n",
       "<style scoped>\n",
       "    .dataframe tbody tr th:only-of-type {\n",
       "        vertical-align: middle;\n",
       "    }\n",
       "\n",
       "    .dataframe tbody tr th {\n",
       "        vertical-align: top;\n",
       "    }\n",
       "\n",
       "    .dataframe thead th {\n",
       "        text-align: right;\n",
       "    }\n",
       "</style>\n",
       "<table border=\"1\" class=\"dataframe\">\n",
       "  <thead>\n",
       "    <tr style=\"text-align: right;\">\n",
       "      <th></th>\n",
       "      <th>satisfactoryLevel</th>\n",
       "      <th>lastEvaluation</th>\n",
       "      <th>numberOfProjects</th>\n",
       "      <th>avgMonthlyHours</th>\n",
       "      <th>timeSpent.company</th>\n",
       "      <th>workAccident</th>\n",
       "      <th>left</th>\n",
       "      <th>promotionInLast5years</th>\n",
       "      <th>dept</th>\n",
       "      <th>salary</th>\n",
       "    </tr>\n",
       "  </thead>\n",
       "  <tbody>\n",
       "    <tr>\n",
       "      <th>0</th>\n",
       "      <td>False</td>\n",
       "      <td>False</td>\n",
       "      <td>False</td>\n",
       "      <td>False</td>\n",
       "      <td>False</td>\n",
       "      <td>False</td>\n",
       "      <td>False</td>\n",
       "      <td>False</td>\n",
       "      <td>False</td>\n",
       "      <td>False</td>\n",
       "    </tr>\n",
       "    <tr>\n",
       "      <th>1</th>\n",
       "      <td>False</td>\n",
       "      <td>False</td>\n",
       "      <td>False</td>\n",
       "      <td>False</td>\n",
       "      <td>False</td>\n",
       "      <td>False</td>\n",
       "      <td>False</td>\n",
       "      <td>False</td>\n",
       "      <td>False</td>\n",
       "      <td>False</td>\n",
       "    </tr>\n",
       "    <tr>\n",
       "      <th>2</th>\n",
       "      <td>False</td>\n",
       "      <td>False</td>\n",
       "      <td>False</td>\n",
       "      <td>False</td>\n",
       "      <td>False</td>\n",
       "      <td>False</td>\n",
       "      <td>False</td>\n",
       "      <td>False</td>\n",
       "      <td>False</td>\n",
       "      <td>False</td>\n",
       "    </tr>\n",
       "    <tr>\n",
       "      <th>3</th>\n",
       "      <td>False</td>\n",
       "      <td>False</td>\n",
       "      <td>False</td>\n",
       "      <td>False</td>\n",
       "      <td>False</td>\n",
       "      <td>False</td>\n",
       "      <td>False</td>\n",
       "      <td>False</td>\n",
       "      <td>False</td>\n",
       "      <td>False</td>\n",
       "    </tr>\n",
       "    <tr>\n",
       "      <th>4</th>\n",
       "      <td>False</td>\n",
       "      <td>False</td>\n",
       "      <td>False</td>\n",
       "      <td>False</td>\n",
       "      <td>False</td>\n",
       "      <td>False</td>\n",
       "      <td>False</td>\n",
       "      <td>False</td>\n",
       "      <td>False</td>\n",
       "      <td>False</td>\n",
       "    </tr>\n",
       "    <tr>\n",
       "      <th>...</th>\n",
       "      <td>...</td>\n",
       "      <td>...</td>\n",
       "      <td>...</td>\n",
       "      <td>...</td>\n",
       "      <td>...</td>\n",
       "      <td>...</td>\n",
       "      <td>...</td>\n",
       "      <td>...</td>\n",
       "      <td>...</td>\n",
       "      <td>...</td>\n",
       "    </tr>\n",
       "    <tr>\n",
       "      <th>14994</th>\n",
       "      <td>False</td>\n",
       "      <td>False</td>\n",
       "      <td>False</td>\n",
       "      <td>False</td>\n",
       "      <td>False</td>\n",
       "      <td>False</td>\n",
       "      <td>False</td>\n",
       "      <td>False</td>\n",
       "      <td>False</td>\n",
       "      <td>False</td>\n",
       "    </tr>\n",
       "    <tr>\n",
       "      <th>14995</th>\n",
       "      <td>False</td>\n",
       "      <td>False</td>\n",
       "      <td>False</td>\n",
       "      <td>False</td>\n",
       "      <td>False</td>\n",
       "      <td>False</td>\n",
       "      <td>False</td>\n",
       "      <td>False</td>\n",
       "      <td>False</td>\n",
       "      <td>False</td>\n",
       "    </tr>\n",
       "    <tr>\n",
       "      <th>14996</th>\n",
       "      <td>False</td>\n",
       "      <td>False</td>\n",
       "      <td>False</td>\n",
       "      <td>False</td>\n",
       "      <td>False</td>\n",
       "      <td>False</td>\n",
       "      <td>False</td>\n",
       "      <td>False</td>\n",
       "      <td>False</td>\n",
       "      <td>False</td>\n",
       "    </tr>\n",
       "    <tr>\n",
       "      <th>14997</th>\n",
       "      <td>False</td>\n",
       "      <td>False</td>\n",
       "      <td>False</td>\n",
       "      <td>False</td>\n",
       "      <td>False</td>\n",
       "      <td>False</td>\n",
       "      <td>False</td>\n",
       "      <td>False</td>\n",
       "      <td>False</td>\n",
       "      <td>False</td>\n",
       "    </tr>\n",
       "    <tr>\n",
       "      <th>14998</th>\n",
       "      <td>False</td>\n",
       "      <td>False</td>\n",
       "      <td>False</td>\n",
       "      <td>False</td>\n",
       "      <td>False</td>\n",
       "      <td>False</td>\n",
       "      <td>False</td>\n",
       "      <td>False</td>\n",
       "      <td>False</td>\n",
       "      <td>False</td>\n",
       "    </tr>\n",
       "  </tbody>\n",
       "</table>\n",
       "<p>14999 rows × 10 columns</p>\n",
       "</div>"
      ],
      "text/plain": [
       "       satisfactoryLevel  lastEvaluation  numberOfProjects  avgMonthlyHours  \\\n",
       "0                  False           False             False            False   \n",
       "1                  False           False             False            False   \n",
       "2                  False           False             False            False   \n",
       "3                  False           False             False            False   \n",
       "4                  False           False             False            False   \n",
       "...                  ...             ...               ...              ...   \n",
       "14994              False           False             False            False   \n",
       "14995              False           False             False            False   \n",
       "14996              False           False             False            False   \n",
       "14997              False           False             False            False   \n",
       "14998              False           False             False            False   \n",
       "\n",
       "       timeSpent.company  workAccident   left  promotionInLast5years   dept  \\\n",
       "0                  False         False  False                  False  False   \n",
       "1                  False         False  False                  False  False   \n",
       "2                  False         False  False                  False  False   \n",
       "3                  False         False  False                  False  False   \n",
       "4                  False         False  False                  False  False   \n",
       "...                  ...           ...    ...                    ...    ...   \n",
       "14994              False         False  False                  False  False   \n",
       "14995              False         False  False                  False  False   \n",
       "14996              False         False  False                  False  False   \n",
       "14997              False         False  False                  False  False   \n",
       "14998              False         False  False                  False  False   \n",
       "\n",
       "       salary  \n",
       "0       False  \n",
       "1       False  \n",
       "2       False  \n",
       "3       False  \n",
       "4       False  \n",
       "...       ...  \n",
       "14994   False  \n",
       "14995   False  \n",
       "14996   False  \n",
       "14997   False  \n",
       "14998   False  \n",
       "\n",
       "[14999 rows x 10 columns]"
      ]
     },
     "execution_count": 6,
     "metadata": {},
     "output_type": "execute_result"
    }
   ],
   "source": [
    "data.isnull()"
   ]
  },
  {
   "cell_type": "code",
   "execution_count": 7,
   "id": "644aa020",
   "metadata": {
    "ExecuteTime": {
     "end_time": "2024-08-28T08:34:08.561651Z",
     "start_time": "2024-08-28T08:34:08.375781Z"
    }
   },
   "outputs": [
    {
     "data": {
      "text/plain": [
       "satisfactoryLevel        0\n",
       "lastEvaluation           0\n",
       "numberOfProjects         0\n",
       "avgMonthlyHours          0\n",
       "timeSpent.company        0\n",
       "workAccident             0\n",
       "left                     0\n",
       "promotionInLast5years    0\n",
       "dept                     0\n",
       "salary                   0\n",
       "dtype: int64"
      ]
     },
     "execution_count": 7,
     "metadata": {},
     "output_type": "execute_result"
    }
   ],
   "source": [
    "data.isnull().sum()  #0 false  1 true"
   ]
  },
  {
   "cell_type": "markdown",
   "id": "0145224b",
   "metadata": {},
   "source": [
    "# data can be manipulated by two things \n",
    "## null values  -> no null values -> drop the null values,fill them with(mean,mode mdeian)\n",
    "## duplicates-> drop duplicates"
   ]
  },
  {
   "cell_type": "code",
   "execution_count": 8,
   "id": "07027f39",
   "metadata": {
    "ExecuteTime": {
     "end_time": "2024-08-28T08:34:08.716105Z",
     "start_time": "2024-08-28T08:34:08.569653Z"
    }
   },
   "outputs": [
    {
     "data": {
      "text/plain": [
       "0        False\n",
       "1        False\n",
       "2        False\n",
       "3        False\n",
       "4        False\n",
       "         ...  \n",
       "14994     True\n",
       "14995    False\n",
       "14996    False\n",
       "14997    False\n",
       "14998    False\n",
       "Length: 14999, dtype: bool"
      ]
     },
     "execution_count": 8,
     "metadata": {},
     "output_type": "execute_result"
    }
   ],
   "source": [
    "data.duplicated()"
   ]
  },
  {
   "cell_type": "code",
   "execution_count": 9,
   "id": "ee366ded",
   "metadata": {
    "ExecuteTime": {
     "end_time": "2024-08-28T08:34:09.267822Z",
     "start_time": "2024-08-28T08:34:08.725389Z"
    }
   },
   "outputs": [
    {
     "data": {
      "text/html": [
       "<div>\n",
       "<style scoped>\n",
       "    .dataframe tbody tr th:only-of-type {\n",
       "        vertical-align: middle;\n",
       "    }\n",
       "\n",
       "    .dataframe tbody tr th {\n",
       "        vertical-align: top;\n",
       "    }\n",
       "\n",
       "    .dataframe thead th {\n",
       "        text-align: right;\n",
       "    }\n",
       "</style>\n",
       "<table border=\"1\" class=\"dataframe\">\n",
       "  <thead>\n",
       "    <tr style=\"text-align: right;\">\n",
       "      <th></th>\n",
       "      <th>satisfactoryLevel</th>\n",
       "      <th>lastEvaluation</th>\n",
       "      <th>numberOfProjects</th>\n",
       "      <th>avgMonthlyHours</th>\n",
       "      <th>timeSpent.company</th>\n",
       "      <th>workAccident</th>\n",
       "      <th>left</th>\n",
       "      <th>promotionInLast5years</th>\n",
       "      <th>dept</th>\n",
       "      <th>salary</th>\n",
       "    </tr>\n",
       "  </thead>\n",
       "  <tbody>\n",
       "    <tr>\n",
       "      <th>263</th>\n",
       "      <td>0.46</td>\n",
       "      <td>0.57</td>\n",
       "      <td>2</td>\n",
       "      <td>139</td>\n",
       "      <td>3</td>\n",
       "      <td>0</td>\n",
       "      <td>1</td>\n",
       "      <td>0</td>\n",
       "      <td>sales</td>\n",
       "      <td>low</td>\n",
       "    </tr>\n",
       "    <tr>\n",
       "      <th>877</th>\n",
       "      <td>0.37</td>\n",
       "      <td>0.51</td>\n",
       "      <td>2</td>\n",
       "      <td>127</td>\n",
       "      <td>3</td>\n",
       "      <td>0</td>\n",
       "      <td>1</td>\n",
       "      <td>0</td>\n",
       "      <td>sales</td>\n",
       "      <td>medium</td>\n",
       "    </tr>\n",
       "    <tr>\n",
       "      <th>974</th>\n",
       "      <td>0.42</td>\n",
       "      <td>0.53</td>\n",
       "      <td>2</td>\n",
       "      <td>142</td>\n",
       "      <td>3</td>\n",
       "      <td>0</td>\n",
       "      <td>1</td>\n",
       "      <td>0</td>\n",
       "      <td>sales</td>\n",
       "      <td>low</td>\n",
       "    </tr>\n",
       "    <tr>\n",
       "      <th>1017</th>\n",
       "      <td>0.40</td>\n",
       "      <td>0.50</td>\n",
       "      <td>2</td>\n",
       "      <td>127</td>\n",
       "      <td>3</td>\n",
       "      <td>0</td>\n",
       "      <td>1</td>\n",
       "      <td>0</td>\n",
       "      <td>IT</td>\n",
       "      <td>low</td>\n",
       "    </tr>\n",
       "    <tr>\n",
       "      <th>1241</th>\n",
       "      <td>0.10</td>\n",
       "      <td>0.85</td>\n",
       "      <td>6</td>\n",
       "      <td>266</td>\n",
       "      <td>4</td>\n",
       "      <td>0</td>\n",
       "      <td>1</td>\n",
       "      <td>0</td>\n",
       "      <td>sales</td>\n",
       "      <td>low</td>\n",
       "    </tr>\n",
       "    <tr>\n",
       "      <th>...</th>\n",
       "      <td>...</td>\n",
       "      <td>...</td>\n",
       "      <td>...</td>\n",
       "      <td>...</td>\n",
       "      <td>...</td>\n",
       "      <td>...</td>\n",
       "      <td>...</td>\n",
       "      <td>...</td>\n",
       "      <td>...</td>\n",
       "      <td>...</td>\n",
       "    </tr>\n",
       "    <tr>\n",
       "      <th>14985</th>\n",
       "      <td>0.95</td>\n",
       "      <td>0.84</td>\n",
       "      <td>3</td>\n",
       "      <td>270</td>\n",
       "      <td>3</td>\n",
       "      <td>1</td>\n",
       "      <td>0</td>\n",
       "      <td>1</td>\n",
       "      <td>sales</td>\n",
       "      <td>medium</td>\n",
       "    </tr>\n",
       "    <tr>\n",
       "      <th>14987</th>\n",
       "      <td>0.37</td>\n",
       "      <td>0.45</td>\n",
       "      <td>2</td>\n",
       "      <td>126</td>\n",
       "      <td>3</td>\n",
       "      <td>0</td>\n",
       "      <td>1</td>\n",
       "      <td>0</td>\n",
       "      <td>support</td>\n",
       "      <td>medium</td>\n",
       "    </tr>\n",
       "    <tr>\n",
       "      <th>14988</th>\n",
       "      <td>0.43</td>\n",
       "      <td>0.57</td>\n",
       "      <td>2</td>\n",
       "      <td>157</td>\n",
       "      <td>3</td>\n",
       "      <td>0</td>\n",
       "      <td>1</td>\n",
       "      <td>0</td>\n",
       "      <td>sales</td>\n",
       "      <td>low</td>\n",
       "    </tr>\n",
       "    <tr>\n",
       "      <th>14993</th>\n",
       "      <td>0.61</td>\n",
       "      <td>0.89</td>\n",
       "      <td>3</td>\n",
       "      <td>242</td>\n",
       "      <td>10</td>\n",
       "      <td>0</td>\n",
       "      <td>0</td>\n",
       "      <td>0</td>\n",
       "      <td>sales</td>\n",
       "      <td>high</td>\n",
       "    </tr>\n",
       "    <tr>\n",
       "      <th>14994</th>\n",
       "      <td>0.11</td>\n",
       "      <td>0.85</td>\n",
       "      <td>7</td>\n",
       "      <td>275</td>\n",
       "      <td>4</td>\n",
       "      <td>0</td>\n",
       "      <td>1</td>\n",
       "      <td>0</td>\n",
       "      <td>support</td>\n",
       "      <td>medium</td>\n",
       "    </tr>\n",
       "  </tbody>\n",
       "</table>\n",
       "<p>3008 rows × 10 columns</p>\n",
       "</div>"
      ],
      "text/plain": [
       "       satisfactoryLevel  lastEvaluation  numberOfProjects  avgMonthlyHours  \\\n",
       "263                 0.46            0.57                 2              139   \n",
       "877                 0.37            0.51                 2              127   \n",
       "974                 0.42            0.53                 2              142   \n",
       "1017                0.40            0.50                 2              127   \n",
       "1241                0.10            0.85                 6              266   \n",
       "...                  ...             ...               ...              ...   \n",
       "14985               0.95            0.84                 3              270   \n",
       "14987               0.37            0.45                 2              126   \n",
       "14988               0.43            0.57                 2              157   \n",
       "14993               0.61            0.89                 3              242   \n",
       "14994               0.11            0.85                 7              275   \n",
       "\n",
       "       timeSpent.company  workAccident  left  promotionInLast5years     dept  \\\n",
       "263                    3             0     1                      0    sales   \n",
       "877                    3             0     1                      0    sales   \n",
       "974                    3             0     1                      0    sales   \n",
       "1017                   3             0     1                      0       IT   \n",
       "1241                   4             0     1                      0    sales   \n",
       "...                  ...           ...   ...                    ...      ...   \n",
       "14985                  3             1     0                      1    sales   \n",
       "14987                  3             0     1                      0  support   \n",
       "14988                  3             0     1                      0    sales   \n",
       "14993                 10             0     0                      0    sales   \n",
       "14994                  4             0     1                      0  support   \n",
       "\n",
       "       salary  \n",
       "263       low  \n",
       "877    medium  \n",
       "974       low  \n",
       "1017      low  \n",
       "1241      low  \n",
       "...       ...  \n",
       "14985  medium  \n",
       "14987  medium  \n",
       "14988     low  \n",
       "14993    high  \n",
       "14994  medium  \n",
       "\n",
       "[3008 rows x 10 columns]"
      ]
     },
     "execution_count": 9,
     "metadata": {},
     "output_type": "execute_result"
    }
   ],
   "source": [
    "data[data.duplicated()] #number of rows as duplicated value"
   ]
  },
  {
   "cell_type": "code",
   "execution_count": 10,
   "id": "e72c1af9",
   "metadata": {
    "ExecuteTime": {
     "end_time": "2024-08-28T08:34:09.396448Z",
     "start_time": "2024-08-28T08:34:09.275825Z"
    }
   },
   "outputs": [],
   "source": [
    "data= data.drop_duplicates()"
   ]
  },
  {
   "cell_type": "code",
   "execution_count": 11,
   "id": "15a84a2a",
   "metadata": {
    "ExecuteTime": {
     "end_time": "2024-08-28T08:34:09.676529Z",
     "start_time": "2024-08-28T08:34:09.404449Z"
    }
   },
   "outputs": [
    {
     "data": {
      "text/html": [
       "<div>\n",
       "<style scoped>\n",
       "    .dataframe tbody tr th:only-of-type {\n",
       "        vertical-align: middle;\n",
       "    }\n",
       "\n",
       "    .dataframe tbody tr th {\n",
       "        vertical-align: top;\n",
       "    }\n",
       "\n",
       "    .dataframe thead th {\n",
       "        text-align: right;\n",
       "    }\n",
       "</style>\n",
       "<table border=\"1\" class=\"dataframe\">\n",
       "  <thead>\n",
       "    <tr style=\"text-align: right;\">\n",
       "      <th></th>\n",
       "      <th>satisfactoryLevel</th>\n",
       "      <th>lastEvaluation</th>\n",
       "      <th>numberOfProjects</th>\n",
       "      <th>avgMonthlyHours</th>\n",
       "      <th>timeSpent.company</th>\n",
       "      <th>workAccident</th>\n",
       "      <th>left</th>\n",
       "      <th>promotionInLast5years</th>\n",
       "    </tr>\n",
       "  </thead>\n",
       "  <tbody>\n",
       "    <tr>\n",
       "      <th>count</th>\n",
       "      <td>11991.000000</td>\n",
       "      <td>11991.000000</td>\n",
       "      <td>11991.000000</td>\n",
       "      <td>11991.000000</td>\n",
       "      <td>11991.000000</td>\n",
       "      <td>11991.000000</td>\n",
       "      <td>11991.000000</td>\n",
       "      <td>11991.000000</td>\n",
       "    </tr>\n",
       "    <tr>\n",
       "      <th>mean</th>\n",
       "      <td>0.629658</td>\n",
       "      <td>0.716683</td>\n",
       "      <td>3.802852</td>\n",
       "      <td>200.473522</td>\n",
       "      <td>3.364857</td>\n",
       "      <td>0.154282</td>\n",
       "      <td>0.166041</td>\n",
       "      <td>0.016929</td>\n",
       "    </tr>\n",
       "    <tr>\n",
       "      <th>std</th>\n",
       "      <td>0.241070</td>\n",
       "      <td>0.168343</td>\n",
       "      <td>1.163238</td>\n",
       "      <td>48.727813</td>\n",
       "      <td>1.330240</td>\n",
       "      <td>0.361234</td>\n",
       "      <td>0.372133</td>\n",
       "      <td>0.129012</td>\n",
       "    </tr>\n",
       "    <tr>\n",
       "      <th>min</th>\n",
       "      <td>0.090000</td>\n",
       "      <td>0.360000</td>\n",
       "      <td>2.000000</td>\n",
       "      <td>96.000000</td>\n",
       "      <td>2.000000</td>\n",
       "      <td>0.000000</td>\n",
       "      <td>0.000000</td>\n",
       "      <td>0.000000</td>\n",
       "    </tr>\n",
       "    <tr>\n",
       "      <th>25%</th>\n",
       "      <td>0.480000</td>\n",
       "      <td>0.570000</td>\n",
       "      <td>3.000000</td>\n",
       "      <td>157.000000</td>\n",
       "      <td>3.000000</td>\n",
       "      <td>0.000000</td>\n",
       "      <td>0.000000</td>\n",
       "      <td>0.000000</td>\n",
       "    </tr>\n",
       "    <tr>\n",
       "      <th>50%</th>\n",
       "      <td>0.660000</td>\n",
       "      <td>0.720000</td>\n",
       "      <td>4.000000</td>\n",
       "      <td>200.000000</td>\n",
       "      <td>3.000000</td>\n",
       "      <td>0.000000</td>\n",
       "      <td>0.000000</td>\n",
       "      <td>0.000000</td>\n",
       "    </tr>\n",
       "    <tr>\n",
       "      <th>75%</th>\n",
       "      <td>0.820000</td>\n",
       "      <td>0.860000</td>\n",
       "      <td>5.000000</td>\n",
       "      <td>243.000000</td>\n",
       "      <td>4.000000</td>\n",
       "      <td>0.000000</td>\n",
       "      <td>0.000000</td>\n",
       "      <td>0.000000</td>\n",
       "    </tr>\n",
       "    <tr>\n",
       "      <th>max</th>\n",
       "      <td>1.000000</td>\n",
       "      <td>1.000000</td>\n",
       "      <td>7.000000</td>\n",
       "      <td>310.000000</td>\n",
       "      <td>10.000000</td>\n",
       "      <td>1.000000</td>\n",
       "      <td>1.000000</td>\n",
       "      <td>1.000000</td>\n",
       "    </tr>\n",
       "  </tbody>\n",
       "</table>\n",
       "</div>"
      ],
      "text/plain": [
       "       satisfactoryLevel  lastEvaluation  numberOfProjects  avgMonthlyHours  \\\n",
       "count       11991.000000    11991.000000      11991.000000     11991.000000   \n",
       "mean            0.629658        0.716683          3.802852       200.473522   \n",
       "std             0.241070        0.168343          1.163238        48.727813   \n",
       "min             0.090000        0.360000          2.000000        96.000000   \n",
       "25%             0.480000        0.570000          3.000000       157.000000   \n",
       "50%             0.660000        0.720000          4.000000       200.000000   \n",
       "75%             0.820000        0.860000          5.000000       243.000000   \n",
       "max             1.000000        1.000000          7.000000       310.000000   \n",
       "\n",
       "       timeSpent.company  workAccident          left  promotionInLast5years  \n",
       "count       11991.000000  11991.000000  11991.000000           11991.000000  \n",
       "mean            3.364857      0.154282      0.166041               0.016929  \n",
       "std             1.330240      0.361234      0.372133               0.129012  \n",
       "min             2.000000      0.000000      0.000000               0.000000  \n",
       "25%             3.000000      0.000000      0.000000               0.000000  \n",
       "50%             3.000000      0.000000      0.000000               0.000000  \n",
       "75%             4.000000      0.000000      0.000000               0.000000  \n",
       "max            10.000000      1.000000      1.000000               1.000000  "
      ]
     },
     "execution_count": 11,
     "metadata": {},
     "output_type": "execute_result"
    }
   ],
   "source": [
    "data.describe()"
   ]
  },
  {
   "cell_type": "markdown",
   "id": "47df92a3",
   "metadata": {
    "ExecuteTime": {
     "end_time": "2024-08-28T08:23:13.514177Z",
     "start_time": "2024-08-28T08:23:13.502077Z"
    }
   },
   "source": [
    "# visualiztion"
   ]
  },
  {
   "cell_type": "markdown",
   "id": "9cdcbd8d",
   "metadata": {
    "ExecuteTime": {
     "end_time": "2024-08-28T08:17:46.123214Z",
     "start_time": "2024-08-28T08:17:46.111950Z"
    }
   },
   "source": [
    "# employee turnover"
   ]
  },
  {
   "cell_type": "code",
   "execution_count": 12,
   "id": "8e020bbb",
   "metadata": {
    "ExecuteTime": {
     "end_time": "2024-08-28T08:34:11.443923Z",
     "start_time": "2024-08-28T08:34:09.684529Z"
    }
   },
   "outputs": [
    {
     "data": {
      "image/png": "[encoded data removed]",
      "text/plain": [
       "<Figure size 600x400 with 1 Axes>"
      ]
     },
     "metadata": {},
     "output_type": "display_data"
    }
   ],
   "source": [
    "#create bar chart\n",
    "plt.figure(figsize=(6,4))\n",
    "sns.countplot(data = data,x='left',palette = [\"green\",\"red\"])\n",
    "plt.title('employee turnover')\n",
    "plt.xlabel('left the company')\n",
    "plt.ylabel('count')\n",
    "plt.xticks([0,1],['no','yes'])\n",
    "plt.show()\n",
    "        "
   ]
  },
  {
   "cell_type": "markdown",
   "id": "51b87c37",
   "metadata": {
    "ExecuteTime": {
     "end_time": "2024-08-28T08:18:05.094812Z",
     "start_time": "2024-08-28T08:18:05.087128Z"
    }
   },
   "source": [
    "# create a historam to visulize the distibution of satisafaction level"
   ]
  },
  {
   "cell_type": "code",
   "execution_count": 13,
   "id": "eb5a3519",
   "metadata": {
    "ExecuteTime": {
     "end_time": "2024-08-28T08:34:11.849289Z",
     "start_time": "2024-08-28T08:34:11.451922Z"
    }
   },
   "outputs": [
    {
     "data": {
      "image/png": "[encoded data removed]",
      "text/plain": [
       "<Figure size 800x600 with 1 Axes>"
      ]
     },
     "metadata": {},
     "output_type": "display_data"
    }
   ],
   "source": [
    "plt.figure(figsize=(8,6))\n",
    "sns.histplot(data=data, x=\"satisfactoryLevel\",color='skyblue')\n",
    "plt.title(\"distribution of satisfactorylevel\")\n",
    "plt.xlabel('satisfaction level')\n",
    "plt.ylabel('count')\n",
    "plt.show()"
   ]
  },
  {
   "cell_type": "markdown",
   "id": "15755b0f",
   "metadata": {
    "ExecuteTime": {
     "end_time": "2024-08-28T08:18:24.186019Z",
     "start_time": "2024-08-28T08:18:24.177254Z"
    }
   },
   "source": [
    "# Biased columns\n",
    "# ! satisfactory level\n",
    "# 2 last evaluation\n",
    "\n",
    "# avg monthly hours -> semi biased\n",
    "\n",
    "# importan column\n",
    "\n",
    "# # number of projects\n",
    "# # timespent.company\n",
    "# # salary\n",
    "# # left -> 0 person for not leaving,1 leaving\n",
    "# # promotion in last 5 years\n",
    "# # dept"
   ]
  },
  {
   "cell_type": "code",
   "execution_count": 14,
   "id": "e51e72ba",
   "metadata": {
    "ExecuteTime": {
     "end_time": "2024-08-28T08:34:12.082901Z",
     "start_time": "2024-08-28T08:34:11.857290Z"
    }
   },
   "outputs": [
    {
     "data": {
      "image/png": "[encoded data removed]",
      "text/plain": [
       "<Figure size 640x480 with 1 Axes>"
      ]
     },
     "metadata": {},
     "output_type": "display_data"
    }
   ],
   "source": [
    "plt.hist(data['lastEvaluation'], bins=30)\n",
    "plt.show()\n"
   ]
  },
  {
   "cell_type": "code",
   "execution_count": 15,
   "id": "c49b601b",
   "metadata": {
    "ExecuteTime": {
     "end_time": "2024-08-28T08:34:12.391728Z",
     "start_time": "2024-08-28T08:34:12.090902Z"
    }
   },
   "outputs": [
    {
     "data": {
      "image/png": "[encoded data removed]",
      "text/plain": [
       "<Figure size 800x600 with 1 Axes>"
      ]
     },
     "metadata": {},
     "output_type": "display_data"
    }
   ],
   "source": [
    "plt.figure(figsize=(8,6))\n",
    "sns.histplot(data=data, x=\"lastEvaluation\",color='skyblue')\n",
    "plt.title(\"distribution of satisfactorylevel\")\n",
    "plt.xlabel('satisfaction level')\n",
    "plt.ylabel('count')\n",
    "plt.show()"
   ]
  },
  {
   "cell_type": "code",
   "execution_count": 17,
   "id": "1629b2f7",
   "metadata": {
    "ExecuteTime": {
     "end_time": "2024-08-28T08:34:13.839918Z",
     "start_time": "2024-08-28T08:34:13.374713Z"
    }
   },
   "outputs": [
    {
     "data": {
      "text/plain": [
       "<Axes: xlabel='numberOfProjects', ylabel='count'>"
      ]
     },
     "execution_count": 17,
     "metadata": {},
     "output_type": "execute_result"
    },
    {
     "data": {
      "image/png": "[encoded data removed]",
      "text/plain": [
       "<Figure size 500x400 with 1 Axes>"
      ]
     },
     "metadata": {},
     "output_type": "display_data"
    }
   ],
   "source": [
    "#number of projects\n",
    "\n",
    "fig=plt.figure(figsize=(5,4))\n",
    "sns.countplot(data=data,x=\"numberOfProjects\",hue=\"left\")\n"
   ]
  },
  {
   "cell_type": "markdown",
   "id": "e4bca0d6",
   "metadata": {
    "ExecuteTime": {
     "end_time": "2024-08-28T08:20:09.292317Z",
     "start_time": "2024-08-28T08:20:09.281504Z"
    }
   },
   "source": [
    "# if number of projects divied evenly to all"
   ]
  },
  {
   "cell_type": "markdown",
   "id": "f426266a",
   "metadata": {
    "ExecuteTime": {
     "end_time": "2024-08-28T08:20:15.703576Z",
     "start_time": "2024-08-28T08:20:15.693829Z"
    }
   },
   "source": [
    "# workaccident vs left"
   ]
  },
  {
   "cell_type": "code",
   "execution_count": 18,
   "id": "58b9e43a",
   "metadata": {
    "ExecuteTime": {
     "end_time": "2024-08-28T08:34:14.134294Z",
     "start_time": "2024-08-28T08:34:13.847920Z"
    }
   },
   "outputs": [
    {
     "data": {
      "text/plain": [
       "<Axes: xlabel='workAccident', ylabel='count'>"
      ]
     },
     "execution_count": 18,
     "metadata": {},
     "output_type": "execute_result"
    },
    {
     "data": {
      "image/png": "[encoded data removed]",
      "text/plain": [
       "<Figure size 500x400 with 1 Axes>"
      ]
     },
     "metadata": {},
     "output_type": "display_data"
    }
   ],
   "source": [
    "fig=plt.figure(figsize=(5,4))\n",
    "sns.countplot(data=data,x=\"workAccident\",hue=\"left\")"
   ]
  },
  {
   "cell_type": "markdown",
   "id": "36a71ff6",
   "metadata": {
    "ExecuteTime": {
     "end_time": "2024-08-28T08:20:31.393771Z",
     "start_time": "2024-08-28T08:20:31.383142Z"
    }
   },
   "source": [
    "# inference-> we have to reduce workaccidents\n",
    "# suggestion-> nil"
   ]
  },
  {
   "cell_type": "markdown",
   "id": "d872bf47",
   "metadata": {
    "ExecuteTime": {
     "end_time": "2024-08-28T08:20:37.578645Z",
     "start_time": "2024-08-28T08:20:37.572088Z"
    }
   },
   "source": [
    "# promotionin last 5years vs left"
   ]
  },
  {
   "cell_type": "code",
   "execution_count": 19,
   "id": "5100d9ad",
   "metadata": {
    "ExecuteTime": {
     "end_time": "2024-08-28T08:34:14.551221Z",
     "start_time": "2024-08-28T08:34:14.158283Z"
    }
   },
   "outputs": [
    {
     "data": {
      "text/plain": [
       "<Axes: xlabel='promotionInLast5years', ylabel='count'>"
      ]
     },
     "execution_count": 19,
     "metadata": {},
     "output_type": "execute_result"
    },
    {
     "data": {
      "image/png": "[encoded data removed]",
      "text/plain": [
       "<Figure size 500x400 with 1 Axes>"
      ]
     },
     "metadata": {},
     "output_type": "display_data"
    }
   ],
   "source": [
    "fig=plt.figure(figsize=(5,4))\n",
    "sns.countplot(data=data,x=\"promotionInLast5years\",hue=\"left\")"
   ]
  },
  {
   "cell_type": "code",
   "execution_count": 20,
   "id": "c3955021",
   "metadata": {
    "ExecuteTime": {
     "end_time": "2024-08-28T08:34:14.577845Z",
     "start_time": "2024-08-28T08:34:14.559221Z"
    }
   },
   "outputs": [
    {
     "data": {
      "text/plain": [
       "satisfactoryLevel                                                   493.31\n",
       "lastEvaluation                                                      599.27\n",
       "numberOfProjects                                                      3321\n",
       "avgMonthlyHours                                                     168864\n",
       "timeSpent.company                                                     5628\n",
       "workAccident                                                           148\n",
       "left                                                                   109\n",
       "promotionInLast5years                                                   42\n",
       "dept                     salessaleshrsupportsalesmarketingtechnicalsupp...\n",
       "salary                   mediumlowlowlowmediumlowmediumlowlowlowlowlowm...\n",
       "dtype: object"
      ]
     },
     "execution_count": 20,
     "metadata": {},
     "output_type": "execute_result"
    }
   ],
   "source": [
    "data[data[\"timeSpent.company\"] > 5].sum()"
   ]
  },
  {
   "cell_type": "markdown",
   "id": "259e9712",
   "metadata": {
    "ExecuteTime": {
     "end_time": "2024-08-28T08:21:25.533858Z",
     "start_time": "2024-08-28T08:21:25.521809Z"
    }
   },
   "source": [
    "# we can provide time to time promotion"
   ]
  },
  {
   "cell_type": "code",
   "execution_count": 21,
   "id": "1e92b9e0",
   "metadata": {
    "ExecuteTime": {
     "end_time": "2024-08-28T08:34:15.359160Z",
     "start_time": "2024-08-28T08:34:14.601841Z"
    }
   },
   "outputs": [
    {
     "data": {
      "text/plain": [
       "<Axes: xlabel='dept', ylabel='count'>"
      ]
     },
     "execution_count": 21,
     "metadata": {},
     "output_type": "execute_result"
    },
    {
     "data": {
      "image/png": "[encoded data removed]",
      "text/plain": [
       "<Figure size 1000x500 with 1 Axes>"
      ]
     },
     "metadata": {},
     "output_type": "display_data"
    }
   ],
   "source": [
    "fig=plt.figure(figsize=(10,5))\n",
    "sns.countplot(data=data,x=\"dept\",hue=\"left\")"
   ]
  },
  {
   "cell_type": "markdown",
   "id": "54c549fc",
   "metadata": {
    "ExecuteTime": {
     "end_time": "2024-08-28T08:21:41.666972Z",
     "start_time": "2024-08-28T08:21:41.660419Z"
    }
   },
   "source": [
    "#  inference- people from sales support technical are leaving the company most\n",
    "# suggestions->give option to move to another dept\n",
    "# 2 incentives\n",
    "# team mangement\n",
    "# take them outings"
   ]
  },
  {
   "cell_type": "code",
   "execution_count": 22,
   "id": "9d8bea7c",
   "metadata": {
    "ExecuteTime": {
     "end_time": "2024-08-28T08:34:15.765253Z",
     "start_time": "2024-08-28T08:34:15.373913Z"
    }
   },
   "outputs": [
    {
     "data": {
      "text/plain": [
       "<Axes: xlabel='salary', ylabel='count'>"
      ]
     },
     "execution_count": 22,
     "metadata": {},
     "output_type": "execute_result"
    },
    {
     "data": {
      "image/png": "[encoded data removed]",
      "text/plain": [
       "<Figure size 1000x500 with 1 Axes>"
      ]
     },
     "metadata": {},
     "output_type": "display_data"
    }
   ],
   "source": [
    "fig=plt.figure(figsize=(10,5))\n",
    "sns.countplot(data=data,x=\"salary\",hue=\"left\")"
   ]
  },
  {
   "cell_type": "markdown",
   "id": "5f8b6387",
   "metadata": {
    "ExecuteTime": {
     "end_time": "2024-08-28T08:21:58.189646Z",
     "start_time": "2024-08-28T08:21:58.182276Z"
    }
   },
   "source": [
    "# inferences- employeeswith low/medium salary are leaving most\n",
    "\n",
    "# suggestions->regular sal hike\n",
    "# markest salary we have to proivde\n",
    "# incentives + promotion +project changes"
   ]
  },
  {
   "cell_type": "markdown",
   "id": "8f15ece1",
   "metadata": {},
   "source": []
  },
  {
   "cell_type": "code",
   "execution_count": null,
   "id": "66ef8e65",
   "metadata": {},
   "outputs": [],
   "source": []
  }
 ],
 "metadata": {
  "kernelspec": {
   "display_name": "Python 3 (ipykernel)",
   "language": "python",
   "name": "python3"
  },
  "language_info": {
   "codemirror_mode": {
    "name": "ipython",
    "version": 3
   },
   "file_extension": ".py",
   "mimetype": "text/x-python",
   "name": "python",
   "nbconvert_exporter": "python",
   "pygments_lexer": "ipython3",
   "version": "3.11.5"
  },
  "toc": {
   "base_numbering": 1,
   "nav_menu": {},
   "number_sections": true,
   "sideBar": true,
   "skip_h1_title": false,
   "title_cell": "Table of Contents",
   "title_sidebar": "Contents",
   "toc_cell": false,
   "toc_position": {},
   "toc_section_display": true,
   "toc_window_display": false
  }
 },
 "nbformat": 4,
 "nbformat_minor": 5
}
